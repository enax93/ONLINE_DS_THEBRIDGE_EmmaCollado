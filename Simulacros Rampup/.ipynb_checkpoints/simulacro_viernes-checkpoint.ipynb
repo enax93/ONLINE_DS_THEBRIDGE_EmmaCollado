{
 "cells": [
  {
   "attachments": {},
   "cell_type": "markdown",
   "metadata": {},
   "source": [
    "# Simulacro Rampup"
   ]
  },
  {
   "cell_type": "code",
   "execution_count": 1,
   "metadata": {},
   "outputs": [],
   "source": [
    "# Escribe tu nombre y apellidos (apellido si solo tienes uno) en las variables:\n",
    "nombre = \"Emmanuel Elpidio\"\n",
    "apellidos = \"Collado Marmolejos\""
   ]
  },
  {
   "cell_type": "code",
   "execution_count": 2,
   "metadata": {},
   "outputs": [
    {
     "name": "stdout",
     "output_type": "stream",
     "text": [
      "Bienvenido Emmanuel Elpidio Collado Marmolejos. Mucha suerte!\n"
     ]
    }
   ],
   "source": [
    "# Solo ejecutar\n",
    "nombre_apellidos = nombre + ' ' + apellidos\n",
    "print(\"Bienvenido\", nombre_apellidos + '. Mucha suerte!')"
   ]
  },
  {
   "cell_type": "markdown",
   "metadata": {},
   "source": [
    "### Ejercicio 1: Calculadoras (3 puntos)\n"
   ]
  },
  {
   "cell_type": "markdown",
   "metadata": {},
   "source": [
    "Construye un programa que:\n",
    "\n",
    "- Salude al usuario por su nombre\n",
    "- Le pregunte si quiere sumar, restar, multiplicar o dividir\n",
    "- Pida que introduzca 2 números de manera sucesiva\n",
    "- Devuelva el resultado de manera formal con un mensaje apropiado \n",
    "\n",
    "**Ayuda**: No se puede dividir por 0"
   ]
  },
  {
   "cell_type": "code",
   "execution_count": 4,
   "metadata": {},
   "outputs": [
    {
     "name": "stdout",
     "output_type": "stream",
     "text": [
      "Hola, Emmanuel Elpidio Collado Marmolejos, mucho gusto en saludarte\n"
     ]
    },
    {
     "name": "stdin",
     "output_type": "stream",
     "text": [
      "¿Que deseas realizar hoy? sumar/restar/multiplicar/dividir/salir suma\n"
     ]
    },
    {
     "name": "stdout",
     "output_type": "stream",
     "text": [
      "Error: Opcion incorrecta, por favor escoger. sumar, restar, multiplicar o dividir\n"
     ]
    },
    {
     "name": "stdin",
     "output_type": "stream",
     "text": [
      "¿Que deseas realizar hoy? sumar/restar/multiplicar/dividir/salir sumar\n",
      "Por favor introduce dos numeros separados por espacio:  3 4\n"
     ]
    },
    {
     "name": "stdout",
     "output_type": "stream",
     "text": [
      "La suma de 3.0 + 4.0 = 7.0\n"
     ]
    },
    {
     "name": "stdin",
     "output_type": "stream",
     "text": [
      "¿Que deseas realizar hoy? sumar/restar/multiplicar/dividir/salir salir\n"
     ]
    },
    {
     "name": "stdout",
     "output_type": "stream",
     "text": [
      "Bye\n"
     ]
    }
   ],
   "source": [
    "Saludo = print(f\"Hola, {nombre_apellidos}, mucho gusto en saludarte\")\n",
    "\n",
    "while True:\n",
    "    try:\n",
    "        operacion = input(\"¿Que deseas realizar hoy? sumar/restar/multiplicar/dividir/salir\")\n",
    "\n",
    "        if operacion == \"salir\":\n",
    "            print(\"Bye\")\n",
    "            break\n",
    "        \n",
    "        elif operacion == \"sumar\":\n",
    "\n",
    "            lista_num = input(\"Por favor introduce dos numeros separados por espacio: \")\n",
    "            numeros = lista_num.split()\n",
    "\n",
    "            num1 = float(numeros[0])\n",
    "            num2 = float(numeros[1])\n",
    "\n",
    "            suma = num1 + num2\n",
    "\n",
    "            print(f\"La suma de {num1} + {num2} = {suma}\")\n",
    "\n",
    "        elif operacion == \"restar\":\n",
    "\n",
    "            lista_num = input(\"Por favor introduce dos numeros separados por espacio: \")\n",
    "            numeros = lista_num.split()\n",
    "\n",
    "            num1 = float(numeros[0])\n",
    "            num2 = float(numeros[1])\n",
    "\n",
    "            resta = num1 - num2\n",
    "\n",
    "            print(f\"La resta de {num1} - {num2} = {resta}\")\n",
    "\n",
    "        elif operacion == \"multiplicar\":\n",
    "\n",
    "            lista_num = input(\"Por favor introduce dos numeros separados por espacio: \")\n",
    "            numeros = lista_num.split()\n",
    "\n",
    "            num1 = float(numeros[0])\n",
    "            num2 = float(numeros[1])\n",
    "\n",
    "            multi = num1 * num2\n",
    "\n",
    "            print(f\"La multiplicacion de {num1} * {num2} = {multi}\")\n",
    "\n",
    "        elif operacion == \"dividir\":\n",
    "\n",
    "            lista_num = input(\"Por favor introduce dos numeros separados por espacio: \")\n",
    "            numeros = lista_num.split()\n",
    "\n",
    "            num1 = float(numeros[0])\n",
    "            num2 = float(numeros[1])\n",
    "\n",
    "            try:\n",
    "                if num2 == 0:\n",
    "                    raise ZeroDivisionError(\"No se puede realizar la division porque el segundo numero es un cero\")\n",
    "                \n",
    "                else: \n",
    "                    divi = num1 / num2\n",
    "                    print(f\"La division de {num1} / {num2} = {divi}\")\n",
    "            except ZeroDivisionError as e:\n",
    "                print(e)\n",
    "        else:\n",
    "            raise ValueError(\"Opcion incorrecta, por favor escoger. sumar, restar, multiplicar o dividir\")\n",
    "    \n",
    "    except ValueError as e:\n",
    "        print(f\"Error: {e}\")\n",
    "    \n",
    "    except Exception as e:\n",
    "        print(f\"Error inesperado: {e}\")"
   ]
  },
  {
   "cell_type": "markdown",
   "metadata": {},
   "source": [
    "Construye una calculadora que sea como la anterior pero:\n",
    "\n",
    "- Acepte tantos valores de entrada como queramos\n",
    "- Devuelva mensajes con las cuentas que se van haciendo.\n",
    "- Permita salir con una palabra clave (exit, quit, ...)"
   ]
  },
  {
   "cell_type": "code",
   "execution_count": 6,
   "metadata": {},
   "outputs": [
    {
     "name": "stdout",
     "output_type": "stream",
     "text": [
      "Hola, Emmanuel Elpidio Collado Marmolejos, mucho gusto en saludarte\n"
     ]
    },
    {
     "name": "stdin",
     "output_type": "stream",
     "text": [
      "¿Qué deseas realizar hoy? sumar/restar/multiplicar/dividir/salir:  asd\n"
     ]
    },
    {
     "name": "stdout",
     "output_type": "stream",
     "text": [
      "Error: Opción incorrecta, por favor escoger. sumar, restar, multiplicar, dividir o salir\n"
     ]
    },
    {
     "name": "stdin",
     "output_type": "stream",
     "text": [
      "¿Qué deseas realizar hoy? sumar/restar/multiplicar/dividir/salir:  sumar\n",
      "Por favor introduce los números separados por espacio:  3 4 5 6 7\n"
     ]
    },
    {
     "name": "stdout",
     "output_type": "stream",
     "text": [
      "La suma es: 25.0\n"
     ]
    },
    {
     "name": "stdin",
     "output_type": "stream",
     "text": [
      "¿Qué deseas realizar hoy? sumar/restar/multiplicar/dividir/salir:  salir\n"
     ]
    },
    {
     "name": "stdout",
     "output_type": "stream",
     "text": [
      "bye\n"
     ]
    }
   ],
   "source": [
    "Saludo = print(f\"Hola, {nombre_apellidos}, mucho gusto en saludarte\")\n",
    "\n",
    "while True:\n",
    "    try:\n",
    "        operacion = input(\"¿Qué deseas realizar hoy? sumar/restar/multiplicar/dividir/salir: \")\n",
    "\n",
    "        if operacion == \"salir\":\n",
    "            print(\"bye\")\n",
    "            break\n",
    "\n",
    "        if operacion in [\"sumar\", \"restar\", \"multiplicar\", \"dividir\"]:\n",
    "            numeros = input(\"Por favor introduce los números separados por espacio: \")\n",
    "            numeros_lista = list(map(float, numeros.split()))\n",
    "\n",
    "            if len(numeros_lista) < 2:\n",
    "                raise ValueError(\"Debes ingresar al menos dos numeros\")\n",
    "\n",
    "            resultado = numeros_lista[0]\n",
    "\n",
    "            if operacion == \"sumar\":\n",
    "                resultado += sum(numeros_lista[1:])\n",
    "                print(f\"La suma es: {resultado}\")\n",
    "\n",
    "            elif operacion == \"restar\":\n",
    "                resultado -= sum(numeros_lista[1:])\n",
    "                print(f\"La resta es: {resultado}\")\n",
    "\n",
    "            elif operacion == \"multiplicar\":\n",
    "                resultado *= 1 if len(numeros_lista) == 1 else (numeros_lista[1:])\n",
    "                print(f\"La multiplicación es: {resultado}\")\n",
    "\n",
    "            elif operacion == \"dividir\":\n",
    "                try:\n",
    "                    if 0 in numeros_lista[1:]:\n",
    "                        raise ZeroDivisionError(\"No se puede realizar la división porque al menos uno de los números es cero\")\n",
    "                    resultado /= 1 if len(numeros_lista) == 1 else (numeros_lista[1:])\n",
    "                    print(f\"La división es: {resultado}\")\n",
    "                except ZeroDivisionError as e:\n",
    "                    print(e)\n",
    "\n",
    "        else:\n",
    "            raise ValueError(\"Opción incorrecta, por favor escoger. sumar, restar, multiplicar, dividir o salir\")\n",
    "\n",
    "    except ValueError as e:\n",
    "        print(f\"Error: {e}\")\n",
    "\n",
    "    except Exception as e:\n",
    "        print(f\"Error inesperado: {e}\")\n"
   ]
  },
  {
   "cell_type": "markdown",
   "metadata": {},
   "source": [
    "### Ejercicio 2 (4 puntos)\n",
    "\n",
    "Escribe un programa que trabaje con 3 listas:\n",
    "\n",
    "La lista ***grupo_musical*** contiene strings.\n",
    "\n",
    "La lista ***generos*** contiene strings.\n",
    "\n",
    "La lista ***anios*** puede contener un entero o tuplas.\n",
    "\n",
    "Ejemplo de datos:\n",
    "\n",
    ">\"ABBA\"\n",
    ">\n",
    ">\"pop\"\n",
    ">\n",
    ">(1972, 1982)\n",
    "\n",
    "Otro ejemplo:\n",
    "\n",
    ">\"Madonna\"\n",
    ">\n",
    ">\"pop\"\n",
    ">\n",
    ">1983\n",
    "\n",
    "Otro ejemplo:\n",
    "\n",
    ">\"Kölsch\"\n",
    ">\n",
    ">\"electronica\"\n",
    ">\n",
    ">1995\n",
    "\n",
    "Un grupo musical solo puede tener un género musical.\n",
    "Un grupo musical debe tener como mínimo un año de formación, que es un entero.\n",
    "Un grupo musical, si tuviese año de disolución, la información se guardaría en una tupla.\n",
    "\n",
    "Se pide implementar:\n",
    "\n",
    "a. Una función llamada *inserta* que acepte 4 parámetros (grupo, genero, comienzo, fin). El fin por defecto debe ser un objeto nulo. El grupo se inserta en la lista de grupos. El genero se inserta en la lista de géneros. El comienzo o comienzo y fin se inserta en la lista de años. La función no tiene valor retornado.\n",
    "\n",
    "b. Una función *busca_genero* con un parámetro de tipo string (genero) y devuelve una lista con todos los grupos de ese género.\n",
    "\n",
    "c. Una función *busca_grupos* con un parámetro booleano llamado *activos* con un valor por defecto verdadero. Cuando el valor es verdadero, devuelve solo los grupos activos en una lista. Cuando *activos* es falso, devuelve todos los grupos disueltos en una lista.\n",
    "\n",
    "d. Una función *busca_genero_indice* con un parámetro de tipo string (genero) que devuelve una lista con los índices donde se encuentra ese género.\n",
    "\n",
    "e. Una función *filtra_listas_genero* con un parámetro de tipo string (genero) que devuelve una tupla con las 3 listas filtradas y ***llame*** a busca_genero_indice\n",
    "\n",
    "f. Una función *anios_activos* que no tenga parámetros de entrada ni valor retornado que imprima línea a línea la información: grupo musical ---> años activos. Es decir: \n",
    "\n",
    ">ABBA ---> 10 años activos\n",
    ">\n",
    ">Madonna --> 40 años activos\n",
    ">\n",
    ">Kölsch --> 25 años activos\n",
    "\n",
    "\n",
    "Nota: si no te sale un apartado después de un tiempo prudencial, ¡pasa al siguiente!"
   ]
  },
  {
   "cell_type": "code",
   "execution_count": null,
   "metadata": {},
   "outputs": [],
   "source": []
  },
  {
   "attachments": {},
   "cell_type": "markdown",
   "metadata": {},
   "source": [
    "### Ejercicio 3 (3 puntos)\n",
    "\n",
    "#### Crear un programa que calcule la cuota de una hipoteca\n",
    "\n",
    "Las cuotas hipotecarias se calculan utilizando la fórmula del interés francés. \n",
    "\n",
    "La fórmula del interés francés es la siguiente:\n",
    "\\begin{align*}\n",
    "C=V \\frac{(1+i)^n i}{(1+i)^n -1}\n",
    "\\end{align*}\n",
    "\n",
    "\n",
    "    C = cuota a pagar (mensual)\n",
    "    V = volumen del préstamo hipotecario\n",
    "    i = tipo de interés del período (mensual)\n",
    "    n = número de cuotas (mensuales)\n",
    "\n"
   ]
  },
  {
   "attachments": {},
   "cell_type": "markdown",
   "metadata": {},
   "source": [
    "1. Crea un programa que solicite al usuario los datos de su hipoteca mediante input() los datos (volumen, interés **anual**, y plazo en **años**) y le devuelva la cuota **mensual** a pagar. No es necesario encapsularlo en funciones. (0.4)"
   ]
  },
  {
   "cell_type": "code",
   "execution_count": null,
   "metadata": {},
   "outputs": [],
   "source": []
  },
  {
   "cell_type": "code",
   "execution_count": null,
   "metadata": {},
   "outputs": [],
   "source": []
  },
  {
   "attachments": {},
   "cell_type": "markdown",
   "metadata": {},
   "source": [
    "2. Crea una función `calcular_hip` que realiza el cálculo y cuyos argumentos de entrada sean `volumen`, `interes_anual` y `años`, devolviendo la couta mensual(float). El argumento de `años` deberá de tener un valor por defecto de 30. Documenta la función con el estilo de Google.  (0.4)"
   ]
  },
  {
   "cell_type": "code",
   "execution_count": null,
   "metadata": {},
   "outputs": [],
   "source": []
  },
  {
   "attachments": {},
   "cell_type": "markdown",
   "metadata": {},
   "source": [
    "3. Calcula la cuota y guárdala en la variable `res_cuota` si la cantidad de la hipoteca son 350000 euros, el interés anual es del 5% y la quiere pagar en 20 años a partir de la función `calcular_hip`. (0.4)\n",
    "\n"
   ]
  },
  {
   "cell_type": "code",
   "execution_count": null,
   "metadata": {},
   "outputs": [],
   "source": []
  },
  {
   "attachments": {},
   "cell_type": "markdown",
   "metadata": {},
   "source": [
    "4. Crea una función `gasto_vivienda`, con dos argumentos de entrada `ingreso` y `lista_hip`. Esta lista tendrá los 3 valores de los argumentos de entrada de `calcular_hip`, llamando a esta función desde dentro de `gasto_vivienda`. Tiene que devolver el valor del porcentaje de gasto en la hipoteca respecto a los ingresos. (Entre 0 y 1, es decir 0.5 si es del 50%) Documenta la función. (0.4)"
   ]
  },
  {
   "cell_type": "code",
   "execution_count": null,
   "metadata": {},
   "outputs": [],
   "source": []
  },
  {
   "attachments": {},
   "cell_type": "markdown",
   "metadata": {},
   "source": [
    "5. Calcula el porcentaje de gasto en la hipoteca si el ingreso es de 1700 euros y guárdalo en la variable `res_porcentaje` a partir de la función `gasto_vivienda`. (0.4)\n"
   ]
  },
  {
   "cell_type": "code",
   "execution_count": null,
   "metadata": {},
   "outputs": [],
   "source": []
  }
 ],
 "metadata": {
  "kernelspec": {
   "display_name": "Python 3 (ipykernel)",
   "language": "python",
   "name": "python3"
  },
  "language_info": {
   "codemirror_mode": {
    "name": "ipython",
    "version": 3
   },
   "file_extension": ".py",
   "mimetype": "text/x-python",
   "name": "python",
   "nbconvert_exporter": "python",
   "pygments_lexer": "ipython3",
   "version": "3.11.8"
  },
  "vscode": {
   "interpreter": {
    "hash": "90139cb9a825bf3d63f6f6704e828dbd1ff7edbd4d0c6e906a71235d6efc74af"
   }
  }
 },
 "nbformat": 4,
 "nbformat_minor": 4
}
